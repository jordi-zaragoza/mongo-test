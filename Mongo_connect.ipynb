{
 "cells": [
  {
   "cell_type": "code",
   "execution_count": 78,
   "id": "b1e8b5f3",
   "metadata": {},
   "outputs": [],
   "source": [
    "from pymongo import MongoClient\n",
    "from getpass import getpass"
   ]
  },
  {
   "cell_type": "code",
   "execution_count": 79,
   "id": "c4494696",
   "metadata": {},
   "outputs": [
    {
     "name": "stdout",
     "output_type": "stream",
     "text": [
      "········\n"
     ]
    }
   ],
   "source": [
    "password = getpass()"
   ]
  },
  {
   "cell_type": "code",
   "execution_count": 80,
   "id": "f15a5cda",
   "metadata": {},
   "outputs": [],
   "source": [
    "client = MongoClient(\"mongodb+srv://jordi-zaragoza:{}@cluster0.yzz5x.mongodb.net/test\".format(password));"
   ]
  },
  {
   "cell_type": "code",
   "execution_count": 81,
   "id": "7c5c2be4",
   "metadata": {},
   "outputs": [
    {
     "data": {
      "text/plain": [
       "MongoClient(host=['cluster0-shard-00-00.yzz5x.mongodb.net:27017', 'cluster0-shard-00-01.yzz5x.mongodb.net:27017', 'cluster0-shard-00-02.yzz5x.mongodb.net:27017'], document_class=dict, tz_aware=False, connect=True, authsource='admin', replicaset='atlas-uq2924-shard-0', tls=True)"
      ]
     },
     "execution_count": 81,
     "metadata": {},
     "output_type": "execute_result"
    }
   ],
   "source": [
    "client"
   ]
  },
  {
   "cell_type": "code",
   "execution_count": 82,
   "id": "16e92def",
   "metadata": {},
   "outputs": [
    {
     "data": {
      "text/plain": [
       "Database(MongoClient(host=['cluster0-shard-00-00.yzz5x.mongodb.net:27017', 'cluster0-shard-00-01.yzz5x.mongodb.net:27017', 'cluster0-shard-00-02.yzz5x.mongodb.net:27017'], document_class=dict, tz_aware=False, connect=True, authsource='admin', replicaset='atlas-uq2924-shard-0', tls=True), 'mydb')"
      ]
     },
     "execution_count": 82,
     "metadata": {},
     "output_type": "execute_result"
    }
   ],
   "source": [
    "db = client.mydb\n",
    "db"
   ]
  },
  {
   "cell_type": "code",
   "execution_count": 83,
   "id": "abca17c4",
   "metadata": {},
   "outputs": [],
   "source": [
    "items = items = db.mycollection.find()"
   ]
  },
  {
   "cell_type": "code",
   "execution_count": 84,
   "id": "0fdd6ce4",
   "metadata": {},
   "outputs": [
    {
     "data": {
      "text/plain": [
       "[{'_id': ObjectId('62a7352227831a016297ede0'), 'name': 'Mary', 'pet': 'dog'},\n",
       " {'_id': ObjectId('62a7352227831a016297ede1'), 'name': 'John', 'pet': 'cat'},\n",
       " {'_id': ObjectId('62a7352227831a016297ede2'),\n",
       "  'name': 'Robert',\n",
       "  'pet': 'bird'}]"
      ]
     },
     "execution_count": 84,
     "metadata": {},
     "output_type": "execute_result"
    }
   ],
   "source": [
    "items = list(items)\n",
    "items"
   ]
  },
  {
   "cell_type": "code",
   "execution_count": 85,
   "id": "9b6d0960",
   "metadata": {},
   "outputs": [
    {
     "name": "stdout",
     "output_type": "stream",
     "text": [
      "Mary has a :dog:\n",
      "John has a :cat:\n",
      "Robert has a :bird:\n"
     ]
    }
   ],
   "source": [
    "for item in items:\n",
    "    print(f\"{item['name']} has a :{item['pet']}:\")"
   ]
  },
  {
   "cell_type": "code",
   "execution_count": null,
   "id": "1f6e8a26",
   "metadata": {},
   "outputs": [],
   "source": []
  }
 ],
 "metadata": {
  "kernelspec": {
   "display_name": "Python 3 (ipykernel)",
   "language": "python",
   "name": "python3"
  },
  "language_info": {
   "codemirror_mode": {
    "name": "ipython",
    "version": 3
   },
   "file_extension": ".py",
   "mimetype": "text/x-python",
   "name": "python",
   "nbconvert_exporter": "python",
   "pygments_lexer": "ipython3",
   "version": "3.9.5"
  }
 },
 "nbformat": 4,
 "nbformat_minor": 5
}
